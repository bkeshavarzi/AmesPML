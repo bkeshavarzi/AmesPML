{
 "cells": [
  {
   "cell_type": "code",
   "execution_count": 28,
   "id": "1e3af844",
   "metadata": {},
   "outputs": [],
   "source": [
    "import numpy as np\n",
    "import pandas as pd\n",
    "import matplotlib.pyplot as plt\n",
    "import seaborn as sns\n",
    "import sklearn\n",
    "import time\n",
    "import statistics"
   ]
  },
  {
   "cell_type": "code",
   "execution_count": 29,
   "id": "ff8a1dd3",
   "metadata": {},
   "outputs": [],
   "source": [
    "from sklearn import model_selection, preprocessing, linear_model, metrics"
   ]
  },
  {
   "cell_type": "code",
   "execution_count": 30,
   "id": "9a21e887",
   "metadata": {},
   "outputs": [],
   "source": [
    "from sklearn.model_selection import StratifiedShuffleSplit\n",
    "from scipy import sparse"
   ]
  },
  {
   "cell_type": "code",
   "execution_count": 31,
   "id": "cc01b063",
   "metadata": {},
   "outputs": [
    {
     "name": "stdout",
     "output_type": "stream",
     "text": [
      "Ames clean dataset has size of :(1156, 59)\n"
     ]
    }
   ],
   "source": [
    "AmesClean = pd.read_csv('AmesCleanDataSet.csv')\n",
    "AmesClean.drop(['Unnamed: 0'],axis=1,inplace=True)\n",
    "print('Ames clean dataset has size of :' + str(AmesClean.shape))"
   ]
  },
  {
   "cell_type": "code",
   "execution_count": 32,
   "id": "b589df3d",
   "metadata": {},
   "outputs": [],
   "source": [
    "AmesClean['salePriceCat'] = pd.cut(AmesClean.SalePrice,bins=10,labels = range(10)).values"
   ]
  },
  {
   "cell_type": "code",
   "execution_count": 33,
   "id": "c6e6f23a",
   "metadata": {},
   "outputs": [],
   "source": [
    "categorical_features = ['MS_SubClass','MS_Zoning','Lot_Shape','Land_Contour','Lot_Config','Land_Slope']\n",
    "categorical_features.extend(['Neighborhood','Condition_1','Bldg_Type','House_Style','Roof_Style'])\n",
    "categorical_features.extend(['Mas_Vnr_Type','Exter_Qual','Exter_Cond','Foundation','Bsmt_Qual','Bsmt_Exposure'])\n",
    "categorical_features.extend(['basement_type','Heating_QC','Garage_Finish','Mo_Sold','Sale_Type','Sale_Condition','Kitchen_Qual'])\n",
    "categorical_features.extend(['exterior','Fireplace_Qu','Garage_Type','Garage_Qual'])\n",
    "Ordinal_featues = ['Overall_Qual','Overall_Cond']\n",
    "Continous_features = ['Lot_Frontage','Lot_Area','age','remodeled_age','Mas_Vnr_Area','basement_area']\n",
    "Continous_features.extend(['Bsmt_Unf_SF','Total_Bsmt_SF','1st_Flr_SF','2nd_Flr_SF','Low_Qual_Fin_SF'])\n",
    "Continous_features.extend(['Gr_Liv_Area','Bsmt_Full_Bath','Bsmt_Half_Bath','Full_Bath','Half_Bath'])\n",
    "Continous_features.extend(['Bedroom_AbvGr','Kitchen_AbvGr','TotRms_AbvGrd','Fireplaces'])               \n",
    "Continous_features.extend(['Garage_Cars','Garage_Area'])\n",
    "Continous_features.extend(['Wood_Deck_SF','Open_Porch_SF','Enclosed_Porch','Screen_Porch','Pool_Area'])\n",
    "Continous_features.extend(['SalePrice','garage_age'])"
   ]
  },
  {
   "cell_type": "code",
   "execution_count": 34,
   "id": "2f9c4e18",
   "metadata": {},
   "outputs": [],
   "source": [
    "AmesCleanFinal = AmesClean.drop(categorical_features,axis=1)\n",
    "AmesCleanFinalData = AmesCleanFinal.values\n",
    "AmesCleanCol = AmesCleanFinal.columns\n",
    "\n",
    "for ifeature in categorical_features:\n",
    "    \n",
    "    temp_df = pd.get_dummies(AmesClean.loc[:,ifeature],prefix=ifeature,prefix_sep='_')\n",
    "    AmesCleanCol = list(AmesCleanCol) + list(temp_df.columns)\n",
    "    temp_data = temp_df.values\n",
    "    AmesCleanFinalData = np.hstack([AmesCleanFinalData,temp_data])\n",
    "    \n",
    "AmesCleanDumClean = pd.DataFrame(AmesCleanFinalData, columns = AmesCleanCol)"
   ]
  },
  {
   "cell_type": "code",
   "execution_count": 35,
   "id": "0b721245",
   "metadata": {},
   "outputs": [],
   "source": [
    "X = AmesCleanDumClean.drop(['SalePrice','salePriceCat'],axis=1)\n",
    "Y = AmesCleanDumClean.SalePrice"
   ]
  },
  {
   "cell_type": "code",
   "execution_count": 36,
   "id": "42a02213",
   "metadata": {},
   "outputs": [],
   "source": [
    "from sklearn.model_selection import train_test_split\n",
    "from sklearn.preprocessing import StandardScaler"
   ]
  },
  {
   "cell_type": "code",
   "execution_count": 37,
   "id": "5fbc519e",
   "metadata": {},
   "outputs": [],
   "source": [
    "scaler = StandardScaler()"
   ]
  },
  {
   "cell_type": "code",
   "execution_count": 38,
   "id": "a3e1dd02",
   "metadata": {},
   "outputs": [],
   "source": [
    "X_scale = scaler.fit_transform(X)"
   ]
  },
  {
   "cell_type": "code",
   "execution_count": 39,
   "id": "6a874117",
   "metadata": {},
   "outputs": [],
   "source": [
    "X_train, X_test, Y_train, Y_test = train_test_split(X_scale,Y,test_size = 0.33)"
   ]
  },
  {
   "cell_type": "code",
   "execution_count": 40,
   "id": "93cc8004",
   "metadata": {},
   "outputs": [],
   "source": [
    "from sklearn.model_selection import GridSearchCV"
   ]
  },
  {
   "cell_type": "code",
   "execution_count": 41,
   "id": "277c38bb",
   "metadata": {},
   "outputs": [],
   "source": [
    "from sklearn.linear_model import SGDRegressor"
   ]
  },
  {
   "cell_type": "code",
   "execution_count": 42,
   "id": "efc340ef",
   "metadata": {},
   "outputs": [],
   "source": [
    "sgd_grid = SGDRegressor()"
   ]
  },
  {
   "cell_type": "code",
   "execution_count": 43,
   "id": "432a9c4a",
   "metadata": {},
   "outputs": [
    {
     "data": {
      "text/plain": [
       "{'alpha': 0.0001,\n",
       " 'average': False,\n",
       " 'early_stopping': False,\n",
       " 'epsilon': 0.1,\n",
       " 'eta0': 0.01,\n",
       " 'fit_intercept': True,\n",
       " 'l1_ratio': 0.15,\n",
       " 'learning_rate': 'invscaling',\n",
       " 'loss': 'squared_loss',\n",
       " 'max_iter': 1000,\n",
       " 'n_iter_no_change': 5,\n",
       " 'penalty': 'l2',\n",
       " 'power_t': 0.25,\n",
       " 'random_state': None,\n",
       " 'shuffle': True,\n",
       " 'tol': 0.001,\n",
       " 'validation_fraction': 0.1,\n",
       " 'verbose': 0,\n",
       " 'warm_start': False}"
      ]
     },
     "execution_count": 43,
     "metadata": {},
     "output_type": "execute_result"
    }
   ],
   "source": [
    "sgd_grid.get_params()"
   ]
  },
  {
   "cell_type": "code",
   "execution_count": 44,
   "id": "d34341db",
   "metadata": {},
   "outputs": [],
   "source": [
    "?sgd_grid"
   ]
  },
  {
   "cell_type": "code",
   "execution_count": 45,
   "id": "588eee33",
   "metadata": {},
   "outputs": [],
   "source": [
    "alpha_values   = [10**i for i in np.arange(0,5,0.5)]\n",
    "l1_ratio       = np.arange(0.1,0.9,0.1)\n",
    "epsilon_values = [10**i for i in np.arange(-2,3,0.5)]\n",
    "\n",
    "sgd_grid.set_params(max_iter=1e5,shuffle=True,random_state=144,early_stopping=True,average=True)\n",
    "\n",
    "grid_param = {'loss':['squared_loss','huber','epsilon_insensitive','squared_epsilon_insensitive'],\n",
    "             'penalty':['l1','l2'],'alpha':alpha_values,'epsilon':epsilon_values}"
   ]
  },
  {
   "cell_type": "code",
   "execution_count": 46,
   "id": "9488dfb2",
   "metadata": {},
   "outputs": [
    {
     "name": "stdout",
     "output_type": "stream",
     "text": [
      "CPU times: user 6.24 s, sys: 709 ms, total: 6.95 s\n",
      "Wall time: 16min 10s\n"
     ]
    },
    {
     "data": {
      "text/plain": [
       "GridSearchCV(cv=5,\n",
       "             estimator=SGDRegressor(average=True, early_stopping=True,\n",
       "                                    max_iter=100000.0, random_state=144),\n",
       "             n_jobs=-1,\n",
       "             param_grid={'alpha': [1.0, 3.1622776601683795, 10.0,\n",
       "                                   31.622776601683793, 100.0,\n",
       "                                   316.22776601683796, 1000.0,\n",
       "                                   3162.2776601683795, 10000.0,\n",
       "                                   31622.776601683792],\n",
       "                         'epsilon': [0.01, 0.03162277660168379, 0.1,\n",
       "                                     0.31622776601683794, 1.0,\n",
       "                                     3.1622776601683795, 10.0,\n",
       "                                     31.622776601683793, 100.0,\n",
       "                                     316.22776601683796],\n",
       "                         'loss': ['squared_loss', 'huber',\n",
       "                                  'epsilon_insensitive',\n",
       "                                  'squared_epsilon_insensitive'],\n",
       "                         'penalty': ['l1', 'l2']},\n",
       "             return_train_score=True)"
      ]
     },
     "execution_count": 46,
     "metadata": {},
     "output_type": "execute_result"
    }
   ],
   "source": [
    "sgd_model_GCV = GridSearchCV(sgd_grid,grid_param,cv=5,return_train_score=True,n_jobs=-1)\n",
    "%time sgd_model_GCV.fit(X_train,Y_train)"
   ]
  },
  {
   "cell_type": "code",
   "execution_count": 47,
   "id": "8bbcbc13",
   "metadata": {},
   "outputs": [],
   "source": [
    "df = pd.DataFrame(sgd_model_GCV.cv_results_)\n",
    "df.to_csv('SGDGridSearch.csv')"
   ]
  },
  {
   "cell_type": "code",
   "execution_count": 48,
   "id": "dff9bb23",
   "metadata": {},
   "outputs": [
    {
     "data": {
      "text/plain": [
       "0.8327763584626823"
      ]
     },
     "execution_count": 48,
     "metadata": {},
     "output_type": "execute_result"
    }
   ],
   "source": [
    "np.max(df.mean_train_score.values)"
   ]
  },
  {
   "cell_type": "code",
   "execution_count": 49,
   "id": "30d03a5b",
   "metadata": {},
   "outputs": [
    {
     "data": {
      "text/plain": [
       "-58279.549895212775"
      ]
     },
     "execution_count": 49,
     "metadata": {},
     "output_type": "execute_result"
    }
   ],
   "source": [
    "np.min(df.mean_train_score.values)"
   ]
  },
  {
   "cell_type": "code",
   "execution_count": 50,
   "id": "abb9ee6b",
   "metadata": {},
   "outputs": [
    {
     "data": {
      "text/plain": [
       "{'alpha': 3.1622776601683795,\n",
       " 'epsilon': 0.01,\n",
       " 'loss': 'squared_epsilon_insensitive',\n",
       " 'penalty': 'l2'}"
      ]
     },
     "execution_count": 50,
     "metadata": {},
     "output_type": "execute_result"
    }
   ],
   "source": [
    "sgd_model_GCV.best_params_"
   ]
  },
  {
   "cell_type": "code",
   "execution_count": 51,
   "id": "ceb672e5",
   "metadata": {},
   "outputs": [
    {
     "data": {
      "text/plain": [
       "0.7844092195922248"
      ]
     },
     "execution_count": 51,
     "metadata": {},
     "output_type": "execute_result"
    }
   ],
   "source": [
    "sgd_model_GCV.best_score_"
   ]
  },
  {
   "cell_type": "code",
   "execution_count": 52,
   "id": "a305b877",
   "metadata": {},
   "outputs": [
    {
     "data": {
      "text/plain": [
       "0.8298732325572342"
      ]
     },
     "execution_count": 52,
     "metadata": {},
     "output_type": "execute_result"
    }
   ],
   "source": [
    "sgd_model_GCV.best_estimator_.score(X_train,Y_train)"
   ]
  },
  {
   "cell_type": "code",
   "execution_count": 53,
   "id": "0d347eac",
   "metadata": {},
   "outputs": [
    {
     "data": {
      "text/plain": [
       "0.8118979244219118"
      ]
     },
     "execution_count": 53,
     "metadata": {},
     "output_type": "execute_result"
    }
   ],
   "source": [
    "sgd_model_GCV.best_estimator_.score(X_test,Y_test)"
   ]
  },
  {
   "cell_type": "code",
   "execution_count": 54,
   "id": "d0685003",
   "metadata": {},
   "outputs": [
    {
     "data": {
      "text/plain": [
       "{'alpha': 3.1622776601683795,\n",
       " 'epsilon': 0.01,\n",
       " 'loss': 'squared_epsilon_insensitive',\n",
       " 'penalty': 'l2'}"
      ]
     },
     "execution_count": 54,
     "metadata": {},
     "output_type": "execute_result"
    }
   ],
   "source": [
    "sgd_model_GCV.best_params_"
   ]
  },
  {
   "cell_type": "markdown",
   "id": "0b8d75f6",
   "metadata": {},
   "source": [
    "To do : <br>\n",
    "1. Plot error for training and testing versus y <br>\n",
    "2. Plot QQ plot <br>"
   ]
  },
  {
   "cell_type": "code",
   "execution_count": null,
   "id": "a1a0a108",
   "metadata": {},
   "outputs": [],
   "source": []
  }
 ],
 "metadata": {
  "kernelspec": {
   "display_name": "Python 3",
   "language": "python",
   "name": "python3"
  },
  "language_info": {
   "codemirror_mode": {
    "name": "ipython",
    "version": 3
   },
   "file_extension": ".py",
   "mimetype": "text/x-python",
   "name": "python",
   "nbconvert_exporter": "python",
   "pygments_lexer": "ipython3",
   "version": "3.8.5"
  }
 },
 "nbformat": 4,
 "nbformat_minor": 5
}
