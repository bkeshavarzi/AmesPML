{
 "cells": [
  {
   "cell_type": "code",
   "execution_count": 32,
   "id": "5ba4adfa",
   "metadata": {},
   "outputs": [],
   "source": [
    "import numpy as np\n",
    "import pandas as pd\n",
    "import matplotlib.pyplot as plt\n",
    "import seaborn as sns\n",
    "import sklearn"
   ]
  },
  {
   "cell_type": "code",
   "execution_count": 33,
   "id": "e0b09b02",
   "metadata": {},
   "outputs": [],
   "source": [
    "from sklearn import metrics, model_selection, preprocessing\n",
    "import time\n",
    "import statistics"
   ]
  },
  {
   "cell_type": "markdown",
   "id": "88062476",
   "metadata": {},
   "source": [
    "Read databse"
   ]
  },
  {
   "cell_type": "code",
   "execution_count": 34,
   "id": "6309014e",
   "metadata": {},
   "outputs": [
    {
     "name": "stdout",
     "output_type": "stream",
     "text": [
      "Ames size are :(2930, 82)\n"
     ]
    }
   ],
   "source": [
    "ames = pd.read_csv('AmesHousing.csv')\n",
    "ames_copy = ames.copy()\n",
    "ames_copy.columns = [x.replace(' ','_') for x in ames_copy.columns]\n",
    "print('Ames size are :' + str(ames_copy.shape))"
   ]
  },
  {
   "cell_type": "code",
   "execution_count": 35,
   "id": "6ab4498a",
   "metadata": {},
   "outputs": [],
   "source": [
    "ames_copy['exterior'] = ames_copy['Exterior_1st']+'_'+ames_copy['Exterior_2nd']\n",
    "temp_cat = []\n",
    "df = pd.DataFrame(ames_copy['exterior'].value_counts())\n",
    "[temp_cat.append(x) for x in df.index if df.loc[x,'exterior']>10]\n",
    "ames_copy['exterior'] = [x if x in temp_cat else 0 for x in ames_copy.exterior]\n",
    "ames_copy['basement_type'] = ames_copy['BsmtFin_Type_1'] + '_' + ames_copy['BsmtFin_Type_2']\n",
    "ames_copy['basement_area'] = ames_copy['BsmtFin_SF_1'] + ames_copy['BsmtFin_SF_2']\n",
    "ames_copy['age'] = ames_copy['Yr_Sold']-ames_copy['Year_Built']\n",
    "ames_copy['remodeled_age'] = ames_copy['Year_Remod/Add']-ames_copy['Year_Built']\n",
    "ames_copy['garage_age'] = ames_copy['Yr_Sold']-ames_copy['Garage_Yr_Blt']\n",
    "categorical_features = ['MS_SubClass','MS_Zoning','Lot_Shape','Land_Contour','Lot_Config','Land_Slope']\n",
    "categorical_features.extend(['Neighborhood','Condition_1','Bldg_Type','House_Style','Roof_Style'])\n",
    "categorical_features.extend(['Mas_Vnr_Type','Exter_Qual','Exter_Cond','Foundation','Bsmt_Qual','Bsmt_Exposure'])\n",
    "categorical_features.extend(['basement_type','Heating_QC','Garage_Finish','Mo_Sold','Sale_Type','Sale_Condition'])\n",
    "categorical_features.extend(['exterior'])\n",
    "Ordinal_featues = ['Overall_Qual','Overall_Cond']\n",
    "Continous_features = ['Lot_Frontage','Lot_Area','age','remodeled_age','Mas_Vnr_Area','basement_area']\n",
    "Continous_features.extend(['Bsmt_Unf_SF','Total_Bsmt_SF','1st_Flr_SF','2nd_Flr_SF','Low_Qual_Fin_SF'])\n",
    "Continous_features.extend(['Gr_Liv_Area','Bsmt_Full_Bath','Bsmt_Half_Bath','Full_Bath','Half_Bath'])\n",
    "Continous_features.extend(['Bedroom_AbvGr','Kitchen_AbvGr','Kitchen_Qual','TotRms_AbvGrd','Fireplaces'])               \n",
    "Continous_features.extend(['Fireplace_Qu','Garage_Type','Garage_Cars','Garage_Area','Garage_Qual'])\n",
    "Continous_features.extend(['Wood_Deck_SF','Open_Porch_SF','Enclosed_Porch','Screen_Porch','Pool_Area'])\n",
    "Continous_features.extend(['SalePrice','garage_age'])\n",
    "ames_copy.drop(['Order','PID','Street','Alley','Utilities','Condition_2','Year_Built','Exterior_1st'],axis=1,\n",
    "inplace=True)\n",
    "ames_copy.drop(['Exterior_2nd','Bsmt_Cond','BsmtFin_Type_1','BsmtFin_Type_2'],axis=1,inplace=True)\n",
    "ames_copy.drop(['BsmtFin_SF_1','BsmtFin_SF_2','Heating','Central_Air','Electrical'],axis=1,inplace=True)\n",
    "ames_copy.drop(['Functional','Garage_Yr_Blt','Garage_Cond','Paved_Drive','3Ssn_Porch'],axis=1,inplace=True)\n",
    "ames_copy.drop(['Pool_QC','Fence','Misc_Feature','Yr_Sold'],axis=1,inplace=True)\n",
    "ames_copy.drop(['Year_Remod/Add','Roof_Matl','Misc_Val'],axis=1,inplace=True)"
   ]
  },
  {
   "cell_type": "code",
   "execution_count": 36,
   "id": "cca393ed",
   "metadata": {},
   "outputs": [
    {
     "name": "stdout",
     "output_type": "stream",
     "text": [
      "Total number of categorical features are :24\n",
      "Total number of continous features are :33\n",
      "Total number of ordinal features are :2\n"
     ]
    }
   ],
   "source": [
    "print('Total number of categorical features are :'+ str(len(categorical_features)))\n",
    "print('Total number of continous features are :' + str(len(Continous_features)))\n",
    "print('Total number of ordinal features are :' + str(len(Ordinal_featues)))"
   ]
  },
  {
   "cell_type": "code",
   "execution_count": 37,
   "id": "cbf3cee2",
   "metadata": {},
   "outputs": [
    {
     "data": {
      "text/plain": [
       "59"
      ]
     },
     "execution_count": 37,
     "metadata": {},
     "output_type": "execute_result"
    }
   ],
   "source": [
    "24+33+2"
   ]
  },
  {
   "cell_type": "code",
   "execution_count": null,
   "id": "d3980408",
   "metadata": {},
   "outputs": [],
   "source": [
    "selected_features = []\n",
    "selected_features = categorical_features\n",
    "selected_features.extend(Continous_features)\n",
    "selected_features.extend(Ordinal_featues)\n",
    "[print (x) for x in ames_copy.columns if x not in selected_features]\n",
    "[print (x) for x in selected_features if x not in ames_copy.columns]"
   ]
  },
  {
   "cell_type": "code",
   "execution_count": null,
   "id": "6d321192",
   "metadata": {},
   "outputs": [],
   "source": [
    "print('The databse with final features has the size of :' + str(ames_copy.shape))"
   ]
  },
  {
   "cell_type": "markdown",
   "id": "611a4bf3",
   "metadata": {},
   "source": [
    "Scrape unuseful features from the dataset and save the final version in a .csv file"
   ]
  },
  {
   "cell_type": "code",
   "execution_count": null,
   "id": "6259a657",
   "metadata": {},
   "outputs": [],
   "source": []
  },
  {
   "cell_type": "code",
   "execution_count": null,
   "id": "e83142d9",
   "metadata": {},
   "outputs": [],
   "source": []
  }
 ],
 "metadata": {
  "kernelspec": {
   "display_name": "Python 3 (ipykernel)",
   "language": "python",
   "name": "python3"
  },
  "language_info": {
   "codemirror_mode": {
    "name": "ipython",
    "version": 3
   },
   "file_extension": ".py",
   "mimetype": "text/x-python",
   "name": "python",
   "nbconvert_exporter": "python",
   "pygments_lexer": "ipython3",
   "version": "3.9.12"
  }
 },
 "nbformat": 4,
 "nbformat_minor": 5
}
