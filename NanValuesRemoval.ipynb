{
 "cells": [
  {
   "cell_type": "code",
   "execution_count": 1,
   "id": "f99f8313",
   "metadata": {},
   "outputs": [],
   "source": [
    "import numpy as np\n",
    "import pandas as pd\n",
    "import matplotlib.pyplot as plt\n",
    "import seaborn as sns\n",
    "import sklearn"
   ]
  },
  {
   "cell_type": "code",
   "execution_count": 2,
   "id": "811ce769",
   "metadata": {},
   "outputs": [],
   "source": [
    "from sklearn import metrics, model_selection, preprocessing\n",
    "import time\n",
    "import statistics"
   ]
  },
  {
   "cell_type": "code",
   "execution_count": 3,
   "id": "c4789e5f",
   "metadata": {},
   "outputs": [],
   "source": [
    "Ames = pd.read_csv('Ames_Modified.csv')\n",
    "Ames.drop(['Unnamed: 0'],axis=1,inplace=True)\n",
    "Ames.index = range(Ames.shape[0])"
   ]
  },
  {
   "cell_type": "code",
   "execution_count": 4,
   "id": "4b4b6454",
   "metadata": {},
   "outputs": [],
   "source": [
    "Nan_col = {}\n",
    "for icol in Ames.columns:\n",
    "    if (np.sum(pd.isna(Ames.loc[:,icol])!=0)):\n",
    "        num_nan = np.sum(pd.isna(Ames.loc[:,icol]))\n",
    "        Nan_col[icol] = num_nan"
   ]
  },
  {
   "cell_type": "code",
   "execution_count": 5,
   "id": "2f02bdea",
   "metadata": {},
   "outputs": [
    {
     "name": "stdout",
     "output_type": "stream",
     "text": [
      "Features that have missed values are :\n"
     ]
    },
    {
     "data": {
      "text/plain": [
       "{'Lot_Frontage': 490,\n",
       " 'Mas_Vnr_Type': 23,\n",
       " 'Mas_Vnr_Area': 23,\n",
       " 'Bsmt_Qual': 80,\n",
       " 'Bsmt_Exposure': 83,\n",
       " 'Bsmt_Unf_SF': 1,\n",
       " 'Total_Bsmt_SF': 1,\n",
       " 'Bsmt_Full_Bath': 2,\n",
       " 'Bsmt_Half_Bath': 2,\n",
       " 'Fireplace_Qu': 1422,\n",
       " 'Garage_Type': 157,\n",
       " 'Garage_Finish': 159,\n",
       " 'Garage_Cars': 1,\n",
       " 'Garage_Area': 1,\n",
       " 'Garage_Qual': 159,\n",
       " 'basement_type': 81,\n",
       " 'basement_area': 1,\n",
       " 'garage_age': 159}"
      ]
     },
     "execution_count": 5,
     "metadata": {},
     "output_type": "execute_result"
    }
   ],
   "source": [
    "print('Features that have missed values are :')\n",
    "Nan_col"
   ]
  },
  {
   "cell_type": "code",
   "execution_count": 10,
   "id": "c0773804",
   "metadata": {},
   "outputs": [],
   "source": [
    "pd.DataFrame(Nan_col.values(), index = Nan_col.keys(), columns = ['Missed']).sort_values(by=['Missed'],ascending=False).to_csv('NanFeatures.csv')"
   ]
  },
  {
   "cell_type": "code",
   "execution_count": 7,
   "id": "569e266d",
   "metadata": {},
   "outputs": [
    {
     "data": {
      "text/html": [
       "<div>\n",
       "<style scoped>\n",
       "    .dataframe tbody tr th:only-of-type {\n",
       "        vertical-align: middle;\n",
       "    }\n",
       "\n",
       "    .dataframe tbody tr th {\n",
       "        vertical-align: top;\n",
       "    }\n",
       "\n",
       "    .dataframe thead th {\n",
       "        text-align: right;\n",
       "    }\n",
       "</style>\n",
       "<table border=\"1\" class=\"dataframe\">\n",
       "  <thead>\n",
       "    <tr style=\"text-align: right;\">\n",
       "      <th></th>\n",
       "      <th>0</th>\n",
       "    </tr>\n",
       "  </thead>\n",
       "  <tbody>\n",
       "    <tr>\n",
       "      <th>Lot_Frontage</th>\n",
       "      <td>490</td>\n",
       "    </tr>\n",
       "    <tr>\n",
       "      <th>Mas_Vnr_Type</th>\n",
       "      <td>23</td>\n",
       "    </tr>\n",
       "    <tr>\n",
       "      <th>Mas_Vnr_Area</th>\n",
       "      <td>23</td>\n",
       "    </tr>\n",
       "    <tr>\n",
       "      <th>Bsmt_Qual</th>\n",
       "      <td>80</td>\n",
       "    </tr>\n",
       "    <tr>\n",
       "      <th>Bsmt_Exposure</th>\n",
       "      <td>83</td>\n",
       "    </tr>\n",
       "    <tr>\n",
       "      <th>Bsmt_Unf_SF</th>\n",
       "      <td>1</td>\n",
       "    </tr>\n",
       "    <tr>\n",
       "      <th>Total_Bsmt_SF</th>\n",
       "      <td>1</td>\n",
       "    </tr>\n",
       "    <tr>\n",
       "      <th>Bsmt_Full_Bath</th>\n",
       "      <td>2</td>\n",
       "    </tr>\n",
       "    <tr>\n",
       "      <th>Bsmt_Half_Bath</th>\n",
       "      <td>2</td>\n",
       "    </tr>\n",
       "    <tr>\n",
       "      <th>Fireplace_Qu</th>\n",
       "      <td>1422</td>\n",
       "    </tr>\n",
       "    <tr>\n",
       "      <th>Garage_Type</th>\n",
       "      <td>157</td>\n",
       "    </tr>\n",
       "    <tr>\n",
       "      <th>Garage_Finish</th>\n",
       "      <td>159</td>\n",
       "    </tr>\n",
       "    <tr>\n",
       "      <th>Garage_Cars</th>\n",
       "      <td>1</td>\n",
       "    </tr>\n",
       "    <tr>\n",
       "      <th>Garage_Area</th>\n",
       "      <td>1</td>\n",
       "    </tr>\n",
       "    <tr>\n",
       "      <th>Garage_Qual</th>\n",
       "      <td>159</td>\n",
       "    </tr>\n",
       "    <tr>\n",
       "      <th>basement_type</th>\n",
       "      <td>81</td>\n",
       "    </tr>\n",
       "    <tr>\n",
       "      <th>basement_area</th>\n",
       "      <td>1</td>\n",
       "    </tr>\n",
       "    <tr>\n",
       "      <th>garage_age</th>\n",
       "      <td>159</td>\n",
       "    </tr>\n",
       "  </tbody>\n",
       "</table>\n",
       "</div>"
      ],
      "text/plain": [
       "                   0\n",
       "Lot_Frontage     490\n",
       "Mas_Vnr_Type      23\n",
       "Mas_Vnr_Area      23\n",
       "Bsmt_Qual         80\n",
       "Bsmt_Exposure     83\n",
       "Bsmt_Unf_SF        1\n",
       "Total_Bsmt_SF      1\n",
       "Bsmt_Full_Bath     2\n",
       "Bsmt_Half_Bath     2\n",
       "Fireplace_Qu    1422\n",
       "Garage_Type      157\n",
       "Garage_Finish    159\n",
       "Garage_Cars        1\n",
       "Garage_Area        1\n",
       "Garage_Qual      159\n",
       "basement_type     81\n",
       "basement_area      1\n",
       "garage_age       159"
      ]
     },
     "execution_count": 7,
     "metadata": {},
     "output_type": "execute_result"
    }
   ],
   "source": [
    "pd.DataFrame(Nan_col.values(), index = Nan_col.keys())"
   ]
  },
  {
   "cell_type": "code",
   "execution_count": 11,
   "id": "b3b09a9d",
   "metadata": {},
   "outputs": [],
   "source": [
    "data = np.zeros((1,Ames.shape[1]))\n",
    "for irow in range(Ames.shape[0]):\n",
    "    if (np.sum(pd.isna(Ames.iloc[irow,:]))==0):\n",
    "        data = np.vstack([data,Ames.iloc[irow,:].values])\n",
    "data = data[1:,:]\n",
    "Ames_clean = pd.DataFrame(data = data, columns = Ames.columns)\n",
    "Ames_clean.index = range(Ames_clean.shape[0])"
   ]
  },
  {
   "cell_type": "code",
   "execution_count": 12,
   "id": "40c190b2",
   "metadata": {},
   "outputs": [
    {
     "data": {
      "text/plain": [
       "RangeIndex(start=0, stop=1156, step=1)"
      ]
     },
     "execution_count": 12,
     "metadata": {},
     "output_type": "execute_result"
    }
   ],
   "source": [
    "Ames_clean.index"
   ]
  },
  {
   "cell_type": "code",
   "execution_count": 13,
   "id": "6e950441",
   "metadata": {},
   "outputs": [
    {
     "name": "stdout",
     "output_type": "stream",
     "text": [
      "Shape of the scrapped dataset is :(2930, 59)\n",
      "Shape of the dataset without any Nan is :(1156, 59)\n"
     ]
    }
   ],
   "source": [
    "print(\"Shape of the scrapped dataset is :\"+str(Ames.shape))\n",
    "print(\"Shape of the dataset without any Nan is :\"+str(Ames_clean.shape))"
   ]
  },
  {
   "cell_type": "code",
   "execution_count": 14,
   "id": "790fb27d",
   "metadata": {},
   "outputs": [],
   "source": [
    "import random"
   ]
  },
  {
   "cell_type": "code",
   "execution_count": 15,
   "id": "930f0633",
   "metadata": {},
   "outputs": [],
   "source": [
    "selected_indices = list(set(random.choices(range(Ames_clean.shape[0]), k = int (Ames_clean.shape[0] * 0.3))))"
   ]
  },
  {
   "cell_type": "code",
   "execution_count": 16,
   "id": "debed2bb",
   "metadata": {},
   "outputs": [
    {
     "name": "stdout",
     "output_type": "stream",
     "text": [
      "Number of selected indices from clean dataset is :302\n",
      "Shape of the dataset without any Nan is :(1156, 59)\n"
     ]
    }
   ],
   "source": [
    "print('Number of selected indices from clean dataset is :'+str(len(selected_indices)))\n",
    "print('Shape of the dataset without any Nan is :'+str(Ames_clean.shape))"
   ]
  },
  {
   "cell_type": "code",
   "execution_count": 17,
   "id": "ee6526f0",
   "metadata": {},
   "outputs": [
    {
     "data": {
      "text/plain": [
       "0.2664359861591695"
      ]
     },
     "execution_count": 17,
     "metadata": {},
     "output_type": "execute_result"
    }
   ],
   "source": [
    "308/1156"
   ]
  },
  {
   "cell_type": "code",
   "execution_count": 18,
   "id": "e0586078",
   "metadata": {},
   "outputs": [],
   "source": [
    "import warnings\n",
    "warnings.filterwarnings(\"ignore\")"
   ]
  },
  {
   "cell_type": "code",
   "execution_count": 19,
   "id": "0c99c4e3",
   "metadata": {},
   "outputs": [],
   "source": [
    "Ames_clean_nan       = Ames_clean.iloc[selected_indices,:]\n",
    "Ames_clean_nan.index = selected_indices\n",
    "Ames_clean_notnan    = Ames_clean_nan.copy()\n",
    "\n",
    "rows_feature_nan = {}\n",
    "\n",
    "for ifeature in Nan_col:\n",
    "    \n",
    "    rows_feature_nan[ifeature] = [] \n",
    "    \n",
    "Nan_length = len(Nan_col.keys())\n",
    "Nan_list = list(Nan_col.keys())\n",
    "\n",
    "for irow in selected_indices:\n",
    "    \n",
    "    random_number = random.choices(range(1,Nan_length),k=1)[0]\n",
    "    random_features = list(set(random.choices(Nan_list,k = random_number)))\n",
    "    Ames_clean_nan.loc[irow,random_features] = np.nan\n",
    "    for ifeature in random_features:\n",
    "        rows_feature_nan[ifeature].append(irow) "
   ]
  },
  {
   "cell_type": "code",
   "execution_count": 20,
   "id": "9595a16f",
   "metadata": {},
   "outputs": [
    {
     "name": "stdout",
     "output_type": "stream",
     "text": [
      "Size of Ames clean dataset are :(1156, 59)\n",
      "Size of Ames clean dataset \"to be nan\" are :(302, 59)\n"
     ]
    }
   ],
   "source": [
    "print('Size of Ames clean dataset are :' + str(Ames_clean.shape))\n",
    "print('Size of Ames clean dataset \"to be nan\" are :' + str(Ames_clean_nan.shape))"
   ]
  },
  {
   "cell_type": "code",
   "execution_count": 21,
   "id": "886b7a56",
   "metadata": {},
   "outputs": [
    {
     "name": "stdout",
     "output_type": "stream",
     "text": [
      "set()\n",
      "set()\n"
     ]
    }
   ],
   "source": [
    "temp_list = []\n",
    "for ifeature in Ames_clean_nan.columns:\n",
    "    if (np.sum(Ames_clean_nan.loc[:,ifeature].isna()) != 0):\n",
    "        temp_list.append(ifeature)\n",
    "print(set(temp_list)-set(Nan_col.keys()))\n",
    "print(set(Nan_col.keys())-set(temp_list))"
   ]
  },
  {
   "cell_type": "code",
   "execution_count": 22,
   "id": "dd9d3390",
   "metadata": {},
   "outputs": [
    {
     "data": {
      "text/html": [
       "<div>\n",
       "<style scoped>\n",
       "    .dataframe tbody tr th:only-of-type {\n",
       "        vertical-align: middle;\n",
       "    }\n",
       "\n",
       "    .dataframe tbody tr th {\n",
       "        vertical-align: top;\n",
       "    }\n",
       "\n",
       "    .dataframe thead th {\n",
       "        text-align: right;\n",
       "    }\n",
       "</style>\n",
       "<table border=\"1\" class=\"dataframe\">\n",
       "  <thead>\n",
       "    <tr style=\"text-align: right;\">\n",
       "      <th></th>\n",
       "      <th>MS_SubClass</th>\n",
       "      <th>MS_Zoning</th>\n",
       "      <th>Lot_Frontage</th>\n",
       "      <th>Lot_Area</th>\n",
       "      <th>Lot_Shape</th>\n",
       "      <th>Land_Contour</th>\n",
       "      <th>Lot_Config</th>\n",
       "      <th>Land_Slope</th>\n",
       "      <th>Neighborhood</th>\n",
       "      <th>Condition_1</th>\n",
       "      <th>...</th>\n",
       "      <th>Mo_Sold</th>\n",
       "      <th>Sale_Type</th>\n",
       "      <th>Sale_Condition</th>\n",
       "      <th>SalePrice</th>\n",
       "      <th>exterior</th>\n",
       "      <th>basement_type</th>\n",
       "      <th>basement_area</th>\n",
       "      <th>age</th>\n",
       "      <th>remodeled_age</th>\n",
       "      <th>garage_age</th>\n",
       "    </tr>\n",
       "  </thead>\n",
       "  <tbody>\n",
       "    <tr>\n",
       "      <th>178</th>\n",
       "      <td>60</td>\n",
       "      <td>RL</td>\n",
       "      <td>59.0</td>\n",
       "      <td>23303</td>\n",
       "      <td>IR3</td>\n",
       "      <td>Lvl</td>\n",
       "      <td>CulDSac</td>\n",
       "      <td>Gtl</td>\n",
       "      <td>NridgHt</td>\n",
       "      <td>Norm</td>\n",
       "      <td>...</td>\n",
       "      <td>6</td>\n",
       "      <td>WD</td>\n",
       "      <td>Family</td>\n",
       "      <td>409900</td>\n",
       "      <td>VinylSd_VinylSd</td>\n",
       "      <td>NaN</td>\n",
       "      <td>NaN</td>\n",
       "      <td>2</td>\n",
       "      <td>0</td>\n",
       "      <td>2.0</td>\n",
       "    </tr>\n",
       "    <tr>\n",
       "      <th>972</th>\n",
       "      <td>20</td>\n",
       "      <td>RL</td>\n",
       "      <td>65.0</td>\n",
       "      <td>10237</td>\n",
       "      <td>Reg</td>\n",
       "      <td>Lvl</td>\n",
       "      <td>Inside</td>\n",
       "      <td>Gtl</td>\n",
       "      <td>Gilbert</td>\n",
       "      <td>RRAn</td>\n",
       "      <td>...</td>\n",
       "      <td>10</td>\n",
       "      <td>New</td>\n",
       "      <td>Partial</td>\n",
       "      <td>169990</td>\n",
       "      <td>VinylSd_VinylSd</td>\n",
       "      <td>GLQ_Unf</td>\n",
       "      <td>NaN</td>\n",
       "      <td>1</td>\n",
       "      <td>1</td>\n",
       "      <td>1.0</td>\n",
       "    </tr>\n",
       "    <tr>\n",
       "      <th>574</th>\n",
       "      <td>60</td>\n",
       "      <td>RL</td>\n",
       "      <td>NaN</td>\n",
       "      <td>6931</td>\n",
       "      <td>Reg</td>\n",
       "      <td>Lvl</td>\n",
       "      <td>Inside</td>\n",
       "      <td>Gtl</td>\n",
       "      <td>Edwards</td>\n",
       "      <td>Norm</td>\n",
       "      <td>...</td>\n",
       "      <td>7</td>\n",
       "      <td>WD</td>\n",
       "      <td>Normal</td>\n",
       "      <td>165400</td>\n",
       "      <td>VinylSd_VinylSd</td>\n",
       "      <td>NaN</td>\n",
       "      <td>NaN</td>\n",
       "      <td>5</td>\n",
       "      <td>1</td>\n",
       "      <td>NaN</td>\n",
       "    </tr>\n",
       "    <tr>\n",
       "      <th>995</th>\n",
       "      <td>60</td>\n",
       "      <td>RL</td>\n",
       "      <td>NaN</td>\n",
       "      <td>17242</td>\n",
       "      <td>IR1</td>\n",
       "      <td>Lvl</td>\n",
       "      <td>Inside</td>\n",
       "      <td>Gtl</td>\n",
       "      <td>NoRidge</td>\n",
       "      <td>Norm</td>\n",
       "      <td>...</td>\n",
       "      <td>5</td>\n",
       "      <td>WD</td>\n",
       "      <td>Normal</td>\n",
       "      <td>584500</td>\n",
       "      <td>MetalSd_MetalSd</td>\n",
       "      <td>NaN</td>\n",
       "      <td>NaN</td>\n",
       "      <td>13</td>\n",
       "      <td>1</td>\n",
       "      <td>NaN</td>\n",
       "    </tr>\n",
       "    <tr>\n",
       "      <th>1090</th>\n",
       "      <td>80</td>\n",
       "      <td>RL</td>\n",
       "      <td>NaN</td>\n",
       "      <td>11679</td>\n",
       "      <td>IR1</td>\n",
       "      <td>Lvl</td>\n",
       "      <td>Inside</td>\n",
       "      <td>Gtl</td>\n",
       "      <td>Edwards</td>\n",
       "      <td>Norm</td>\n",
       "      <td>...</td>\n",
       "      <td>5</td>\n",
       "      <td>WD</td>\n",
       "      <td>Normal</td>\n",
       "      <td>182000</td>\n",
       "      <td>Plywood_Plywood</td>\n",
       "      <td>ALQ_Rec</td>\n",
       "      <td>NaN</td>\n",
       "      <td>44</td>\n",
       "      <td>0</td>\n",
       "      <td>44.0</td>\n",
       "    </tr>\n",
       "  </tbody>\n",
       "</table>\n",
       "<p>5 rows × 59 columns</p>\n",
       "</div>"
      ],
      "text/plain": [
       "     MS_SubClass MS_Zoning Lot_Frontage Lot_Area Lot_Shape Land_Contour  \\\n",
       "178           60        RL         59.0    23303       IR3          Lvl   \n",
       "972           20        RL         65.0    10237       Reg          Lvl   \n",
       "574           60        RL          NaN     6931       Reg          Lvl   \n",
       "995           60        RL          NaN    17242       IR1          Lvl   \n",
       "1090          80        RL          NaN    11679       IR1          Lvl   \n",
       "\n",
       "     Lot_Config Land_Slope Neighborhood Condition_1  ... Mo_Sold Sale_Type  \\\n",
       "178     CulDSac        Gtl      NridgHt        Norm  ...       6       WD    \n",
       "972      Inside        Gtl      Gilbert        RRAn  ...      10       New   \n",
       "574      Inside        Gtl      Edwards        Norm  ...       7       WD    \n",
       "995      Inside        Gtl      NoRidge        Norm  ...       5       WD    \n",
       "1090     Inside        Gtl      Edwards        Norm  ...       5       WD    \n",
       "\n",
       "     Sale_Condition SalePrice         exterior basement_type basement_area  \\\n",
       "178          Family    409900  VinylSd_VinylSd           NaN           NaN   \n",
       "972         Partial    169990  VinylSd_VinylSd       GLQ_Unf           NaN   \n",
       "574          Normal    165400  VinylSd_VinylSd           NaN           NaN   \n",
       "995          Normal    584500  MetalSd_MetalSd           NaN           NaN   \n",
       "1090         Normal    182000  Plywood_Plywood       ALQ_Rec           NaN   \n",
       "\n",
       "     age remodeled_age garage_age  \n",
       "178    2             0        2.0  \n",
       "972    1             1        1.0  \n",
       "574    5             1        NaN  \n",
       "995   13             1        NaN  \n",
       "1090  44             0       44.0  \n",
       "\n",
       "[5 rows x 59 columns]"
      ]
     },
     "execution_count": 22,
     "metadata": {},
     "output_type": "execute_result"
    }
   ],
   "source": [
    "Ames_clean_nan.sample(5)"
   ]
  },
  {
   "cell_type": "code",
   "execution_count": 23,
   "id": "83a4a574",
   "metadata": {},
   "outputs": [],
   "source": [
    "categorical_features = ['MS_SubClass','MS_Zoning','Lot_Shape','Land_Contour','Lot_Config','Land_Slope']\n",
    "categorical_features.extend(['Neighborhood','Condition_1','Bldg_Type','House_Style','Roof_Style'])\n",
    "categorical_features.extend(['Mas_Vnr_Type','Exter_Qual','Exter_Cond','Foundation','Bsmt_Qual','Bsmt_Exposure'])\n",
    "categorical_features.extend(['basement_type','Heating_QC','Garage_Finish','Mo_Sold','Sale_Type','Sale_Condition','Kitchen_Qual'])\n",
    "categorical_features.extend(['exterior','Fireplace_Qu','Garage_Type','Garage_Qual'])\n",
    "\n",
    "Ordinal_featues = ['Overall_Qual','Overall_Cond','Bsmt_Full_Bath','Bsmt_Half_Bath','Bedroom_AbvGr','Full_Bath',\n",
    "                  'Half_Bath','Kitchen_AbvGr','TotRms_AbvGrd','Fireplaces','Garage_Cars']\n",
    "\n",
    "Continous_features = ['Lot_Frontage','Lot_Area','age','remodeled_age','Mas_Vnr_Area','basement_area']\n",
    "Continous_features.extend(['Bsmt_Unf_SF','Total_Bsmt_SF','1st_Flr_SF','2nd_Flr_SF','Low_Qual_Fin_SF'])\n",
    "Continous_features.extend(['Gr_Liv_Area'])              \n",
    "Continous_features.extend(['Garage_Area'])\n",
    "Continous_features.extend(['Wood_Deck_SF','Open_Porch_SF','Enclosed_Porch','Screen_Porch','Pool_Area'])\n",
    "Continous_features.extend(['SalePrice','garage_age'])"
   ]
  },
  {
   "cell_type": "code",
   "execution_count": 24,
   "id": "8f53c3cd",
   "metadata": {},
   "outputs": [
    {
     "name": "stdout",
     "output_type": "stream",
     "text": [
      "28\n",
      "11\n",
      "20\n"
     ]
    }
   ],
   "source": [
    "print(len(categorical_features))\n",
    "print(len(Ordinal_featues))\n",
    "print(len(Continous_features))"
   ]
  },
  {
   "cell_type": "code",
   "execution_count": 26,
   "id": "8eb46f41",
   "metadata": {},
   "outputs": [],
   "source": [
    "fill_values = {}\n",
    "for icol in Ames_clean_nan.columns:\n",
    "    if ((icol in categorical_features) | (icol in Ordinal_featues)):\n",
    "        fill_values[icol] = Ames_clean_nan.loc[:,icol].mode().values[0]\n",
    "    elif (icol in Continous_features):\n",
    "        fill_values[icol] = Ames_clean_nan.loc[:,icol].median()\n",
    "    else:\n",
    "        print('Error for'+icol)"
   ]
  },
  {
   "cell_type": "code",
   "execution_count": 27,
   "id": "04e60663",
   "metadata": {},
   "outputs": [],
   "source": [
    "Ames_clean_nan_median = Ames_clean_nan.fillna(fill_values)"
   ]
  },
  {
   "cell_type": "code",
   "execution_count": 28,
   "id": "016a8a93",
   "metadata": {},
   "outputs": [],
   "source": [
    "fill_values = {}\n",
    "for icol in Ames_clean_nan.columns:\n",
    "    if ((icol in categorical_features) | (icol in Ordinal_featues)):\n",
    "        fill_values[icol] = Ames_clean_nan.loc[:,icol].mode().values[0]\n",
    "    elif (icol in Continous_features):\n",
    "        fill_values[icol] = Ames_clean_nan.loc[:,icol].mean()\n",
    "    else:\n",
    "        print('Error for'+icol)"
   ]
  },
  {
   "cell_type": "code",
   "execution_count": 29,
   "id": "569e31f1",
   "metadata": {},
   "outputs": [],
   "source": [
    "Ames_clean_nan_mean = Ames_clean_nan.fillna(fill_values)"
   ]
  },
  {
   "cell_type": "code",
   "execution_count": 30,
   "id": "0e8604ae",
   "metadata": {},
   "outputs": [],
   "source": [
    "from sklearn.impute import KNNImputer\n",
    "from sklearn.metrics import confusion_matrix, mean_squared_error, r2_score"
   ]
  },
  {
   "cell_type": "code",
   "execution_count": 31,
   "id": "3c83f870",
   "metadata": {},
   "outputs": [],
   "source": [
    "def sum_diag_fun(x):\n",
    "    sum_diag = 0\n",
    "    for i in range(len(x)):\n",
    "        sum_diag = sum_diag + x[i,i]\n",
    "    return sum_diag"
   ]
  },
  {
   "cell_type": "code",
   "execution_count": 32,
   "id": "57a0b012",
   "metadata": {},
   "outputs": [],
   "source": [
    "n_neighbors = np.arange(1,50,1)\n",
    "mean_error = {}\n",
    "median_error = {}\n",
    "\n",
    "for icol in Nan_col.keys():\n",
    "    \n",
    "    if (icol in categorical_features):\n",
    "        \n",
    "        try:\n",
    "            \n",
    "            data = confusion_matrix(Ames_clean_notnan.loc[rows_feature_nan[icol],icol].values,\n",
    "                                    Ames_clean_nan_median.loc[rows_feature_nan[icol],icol].values)\n",
    "            median_error[icol] = np.round(100 * sum_diag_fun(data)/np.sum(np.sum(data)),2)\n",
    "            data = confusion_matrix(Ames_clean_notnan.loc[rows_feature_nan[icol],icol].values,\n",
    "                                    Ames_clean_nan_mean.loc[rows_feature_nan[icol],icol].values)\n",
    "            mean_error[icol] =   np.round(100 * sum_diag_fun(data)/(np.sum(np.sum(data))),2)\n",
    "            \n",
    "        except:\n",
    "            \n",
    "            data = r2_score(Ames_clean_notnan.loc[rows_feature_nan[icol],icol].values,\n",
    "                            Ames_clean_nan_median.loc[rows_feature_nan[icol],icol].values)\n",
    "            \n",
    "            median_error[icol] = np.round(100 * data,2)\n",
    "            \n",
    "            data = r2_score(Ames_clean_notnan.loc[rows_feature_nan[icol],icol].values,\n",
    "                            Ames_clean_nan_mean.loc[rows_feature_nan[icol],icol].values)\n",
    "            \n",
    "            mean_error[icol] =     np.round(100 * data,2)\n",
    "            \n",
    "    elif ((icol in Ordinal_featues) | (icol in Continous_features)):\n",
    "        \n",
    "        median_error[icol] =  np.round(100 * r2_score(Ames_clean_notnan.loc[rows_feature_nan[icol],icol].values, \n",
    "                                             Ames_clean_nan_median.loc[rows_feature_nan[icol],icol].values),2)\n",
    "        mean_error[icol]   =  np.round(100 * r2_score(Ames_clean_notnan.loc[rows_feature_nan[icol],icol].values,\n",
    "                                             Ames_clean_nan_mean.loc[rows_feature_nan[icol],icol].values),2)\n",
    "    else:\n",
    "        print('Error')"
   ]
  },
  {
   "cell_type": "code",
   "execution_count": 33,
   "id": "c77e55b0",
   "metadata": {},
   "outputs": [],
   "source": [
    "for ifeature in rows_feature_nan.keys():\n",
    "    try:\n",
    "        median_value = Ames_clean_nan.loc[:,ifeature].median()\n",
    "        Ames_clean_nan.loc[rows_feature_nan[ifeature],ifeature] = median_value \n",
    "    except:\n",
    "        mode_values = Ames_clean_nan.loc[:,ifeature].mode().values[0]\n",
    "        Ames_clean_nan.loc[rows_feature_nan[ifeature],ifeature] = mode_values "
   ]
  },
  {
   "cell_type": "code",
   "execution_count": 34,
   "id": "fb8e81f4",
   "metadata": {},
   "outputs": [
    {
     "data": {
      "text/plain": [
       "(2930, 59)"
      ]
     },
     "execution_count": 34,
     "metadata": {},
     "output_type": "execute_result"
    }
   ],
   "source": [
    "Ames.shape "
   ]
  },
  {
   "cell_type": "code",
   "execution_count": 35,
   "id": "0855660e",
   "metadata": {},
   "outputs": [],
   "source": [
    "from sklearn.preprocessing import OrdinalEncoder"
   ]
  },
  {
   "cell_type": "code",
   "execution_count": 36,
   "id": "6e300cef",
   "metadata": {},
   "outputs": [],
   "source": [
    "oe = OrdinalEncoder()\n",
    "data_oe_transformed = oe.fit_transform(Ames_clean_nan)\n",
    "imputation_error = np.zeros((len(n_neighbors),len(Nan_col.keys())))\n",
    "imputation_error_weight = np.zeros((len(n_neighbors),len(Nan_col.keys())))"
   ]
  },
  {
   "cell_type": "code",
   "execution_count": 37,
   "id": "e343e3e4",
   "metadata": {},
   "outputs": [],
   "source": [
    "neg_fun = np.vectorize(lambda x: not x)"
   ]
  },
  {
   "cell_type": "code",
   "execution_count": 38,
   "id": "f9062721",
   "metadata": {},
   "outputs": [],
   "source": [
    "AmesOriginal = Ames.copy()\n",
    "for ifeature in Nan_col.keys():\n",
    "    temp_df = AmesOriginal.loc[:,ifeature]\n",
    "    temp_data = temp_df.values\n",
    "    temp_index = neg_fun(pd.isna(temp_df).values)\n",
    "    AmesOriginal.loc[pd.isna(temp_df).values,ifeature] = statistics.mode(temp_data[temp_index])"
   ]
  },
  {
   "cell_type": "code",
   "execution_count": null,
   "id": "3668f7af",
   "metadata": {},
   "outputs": [],
   "source": [
    "#for ifeature in AmesOriginal.columns:\n",
    "    #print(np.sum(pd.isna(AmesOriginal.loc[:,ifeature])))"
   ]
  },
  {
   "cell_type": "code",
   "execution_count": 39,
   "id": "5406364a",
   "metadata": {},
   "outputs": [],
   "source": [
    "oeFinal = OrdinalEncoder()\n",
    "AmesOriginal_data = oeFinal.fit_transform(AmesOriginal)"
   ]
  },
  {
   "cell_type": "code",
   "execution_count": 40,
   "id": "cb78612c",
   "metadata": {},
   "outputs": [],
   "source": [
    "AmesOriginal = pd.DataFrame(AmesOriginal_data,columns=Ames.columns,index = list(Ames.index))\n",
    "\n",
    "for ifeature in Nan_col.keys():\n",
    "    nan_index = pd.isna(Ames.loc[:,ifeature])\n",
    "    AmesOriginal.loc[nan_index,ifeature] = np.nan"
   ]
  },
  {
   "cell_type": "code",
   "execution_count": 41,
   "id": "01b412da",
   "metadata": {},
   "outputs": [
    {
     "name": "stdout",
     "output_type": "stream",
     "text": [
      "Lot_Frontage: 490\n",
      "Mas_Vnr_Type: 23\n",
      "Mas_Vnr_Area: 23\n",
      "Bsmt_Qual: 80\n",
      "Bsmt_Exposure: 83\n",
      "Bsmt_Unf_SF: 1\n",
      "Total_Bsmt_SF: 1\n",
      "Bsmt_Full_Bath: 2\n",
      "Bsmt_Half_Bath: 2\n",
      "Fireplace_Qu: 1422\n",
      "Garage_Type: 157\n",
      "Garage_Finish: 159\n",
      "Garage_Cars: 1\n",
      "Garage_Area: 1\n",
      "Garage_Qual: 159\n",
      "basement_type: 81\n",
      "basement_area: 1\n",
      "garage_age: 159\n"
     ]
    }
   ],
   "source": [
    "for ifeature in AmesOriginal.columns:\n",
    "    df = AmesOriginal.loc[:,ifeature]\n",
    "    np_sum = np.sum(pd.isna(df))\n",
    "    if (np_sum!=0):\n",
    "        print(ifeature + ': ' + str(np_sum))"
   ]
  },
  {
   "cell_type": "code",
   "execution_count": null,
   "id": "c076d83a",
   "metadata": {},
   "outputs": [],
   "source": [
    "#oeFinal.inverse_transform"
   ]
  },
  {
   "cell_type": "code",
   "execution_count": 42,
   "id": "a3f484f8",
   "metadata": {},
   "outputs": [],
   "source": [
    "data_oe_transformed = pd.DataFrame(data = data_oe_transformed, columns = Ames_clean_nan.columns,index = Ames_clean_nan.index)\n",
    "for ifeature in rows_feature_nan.keys():\n",
    "    data_oe_transformed.loc[rows_feature_nan[ifeature],ifeature] = np.nan"
   ]
  },
  {
   "cell_type": "code",
   "execution_count": 43,
   "id": "11c98976",
   "metadata": {},
   "outputs": [],
   "source": [
    "for index_neighbor, ineighbor in enumerate(n_neighbors):\n",
    "    \n",
    "    imputer = KNNImputer(n_neighbors=ineighbor)\n",
    "    d = imputer.fit_transform(data_oe_transformed)\n",
    "    d = oe.inverse_transform(d)\n",
    "    df = pd.DataFrame(data = d, columns=Ames_clean_nan.columns, index = Ames_clean_nan.index)\n",
    "    \n",
    "    for index_col, icol in enumerate(Nan_col.keys()):\n",
    "        \n",
    "        if (icol in categorical_features):\n",
    "            try:\n",
    "                data = confusion_matrix(Ames_clean_notnan.loc[rows_feature_nan[icol],icol].values,df.loc[rows_feature_nan[icol],icol].values)\n",
    "                imputation_error[index_neighbor,index_col] = np.round(100 * sum_diag_fun(data)/(sum(sum(data))),2)\n",
    "            except:\n",
    "                data = r2_score(Ames_clean_notnan.loc[rows_feature_nan[icol],icol].values,df.loc[rows_feature_nan[icol],icol].values)\n",
    "                imputation_error[index_neighbor,index_col] = np.round(100 * data,2)\n",
    "        elif ((icol in Ordinal_featues) | (icol in Continous_features)):\n",
    "            data = r2_score(Ames_clean_notnan.loc[rows_feature_nan[icol],icol].values,df.loc[rows_feature_nan[icol],icol].values)\n",
    "            imputation_error[index_neighbor,index_col] = np.round(100 * data,2)\n",
    "imputation_error = pd.DataFrame(data=imputation_error,columns=Nan_col.keys(),index = n_neighbors)"
   ]
  },
  {
   "cell_type": "code",
   "execution_count": 44,
   "id": "b5e42846",
   "metadata": {},
   "outputs": [],
   "source": [
    "for index_neighbor, ineighbor in enumerate(n_neighbors):\n",
    "    imputer = KNNImputer(n_neighbors=ineighbor,weights='distance')\n",
    "    d = imputer.fit_transform(data_oe_transformed)\n",
    "    d = oe.inverse_transform(d)\n",
    "    df = pd.DataFrame(data = d, columns=Ames_clean_nan.columns, index = Ames_clean_nan.index)\n",
    "    \n",
    "    for index_col, icol in enumerate(Nan_col.keys()):\n",
    "        \n",
    "        if (icol in categorical_features):\n",
    "            try:\n",
    "                data = confusion_matrix(Ames_clean_notnan.loc[rows_feature_nan[icol],icol].values,df.loc[rows_feature_nan[icol],icol].values)\n",
    "                imputation_error_weight[index_neighbor,index_col] = np.round(100 * sum_diag_fun(data)/(sum(sum(data))),2)\n",
    "            except:\n",
    "                data = r2_score(Ames_clean_notnan.loc[rows_feature_nan[icol],icol].values,df.loc[rows_feature_nan[icol],icol].values)\n",
    "                imputation_error_weight[index_neighbor,index_col] = np.round(100 * data,2)\n",
    "        elif ((icol in Ordinal_featues) | (icol in Continous_features)):\n",
    "            data = r2_score(Ames_clean_notnan.loc[rows_feature_nan[icol],icol].values,df.loc[rows_feature_nan[icol],icol].values)\n",
    "            imputation_error_weight[index_neighbor,index_col] = np.round(100 * data,2)\n",
    "            \n",
    "imputation_error_weight = pd.DataFrame(data=imputation_error_weight,columns=Nan_col.keys(),index = n_neighbors)"
   ]
  },
  {
   "cell_type": "code",
   "execution_count": 45,
   "id": "53598c92",
   "metadata": {},
   "outputs": [],
   "source": [
    "median_error = pd.DataFrame(data = median_error, columns = Nan_col.keys(), index = [1])\n",
    "mean_error = pd.DataFrame(data = mean_error, columns = Nan_col.keys(), index = [1])\n",
    "imputation_error.to_csv('KNNImputation.csv')\n",
    "imputation_error_weight.to_csv('KNNImputationWeight.csv')"
   ]
  },
  {
   "cell_type": "code",
   "execution_count": 46,
   "id": "5e0c3d23",
   "metadata": {},
   "outputs": [],
   "source": [
    "Ames_clean.to_csv('AmesCleanDataSet.csv')"
   ]
  },
  {
   "cell_type": "code",
   "execution_count": 47,
   "id": "83730741",
   "metadata": {},
   "outputs": [],
   "source": [
    "x_median = list(median_error.T.index.values)\n",
    "y_median = [abs(x) for x in median_error.values.tolist()[0]]#[abs(ele) for ele in test_list]\n",
    "x_mean   = list(mean_error.T.index.values) \n",
    "y_mean   = [abs(x) for x in mean_error.values.tolist()[0]]"
   ]
  },
  {
   "cell_type": "code",
   "execution_count": 57,
   "id": "671bdca4",
   "metadata": {},
   "outputs": [
    {
     "data": {
      "image/png": "[encoded data removed]",
      "text/plain": [
       "<Figure size 1152x432 with 2 Axes>"
      ]
     },
     "metadata": {
      "needs_background": "light"
     },
     "output_type": "display_data"
    },
    {
     "data": {
      "image/png": "[encoded data removed]",
      "text/plain": [
       "<Figure size 1152x432 with 2 Axes>"
      ]
     },
     "metadata": {
      "needs_background": "light"
     },
     "output_type": "display_data"
    }
   ],
   "source": [
    "fig,ax = plt.subplots(1,2,figsize=(16,6))\n",
    "\n",
    "ax[0].bar(x_median,np.abs(y_median),color='red',label='Median')\n",
    "ax[0].set_xlabel('Categories w/ Nan values', fontsize = 16)\n",
    "ax[0].set_ylabel('Accuracy', fontsize = 16)\n",
    "ax[0].legend()\n",
    "ax[0].set_xticks(x_median)\n",
    "ax[0].tick_params(rotation=45.0)\n",
    "ax[0].set_ylim([0,100])\n",
    "ax[0].grid(axis=\"y\")\n",
    "\n",
    "ax[1].bar(x_mean,np.abs(y_mean),color='blue',label='Mean')\n",
    "ax[1].set_xlabel('Categories w/ Nan values', fontsize = 16)\n",
    "ax[1].set_ylabel('Accuracy', fontsize = 16)\n",
    "ax[1].legend()\n",
    "ax[1].set_xticks(x_mean)\n",
    "ax[1].tick_params(rotation=45.0)\n",
    "ax[1].set_ylim([0,100])\n",
    "ax[1].grid(axis=\"y\")\n",
    "\n",
    "fig,ax = plt.subplots(1,2,figsize=(16,6))\n",
    "\n",
    "ax[0].bar(imputation_error.columns,np.abs(imputation_error.iloc[2,:].values),color='cyan',label='KNN')\n",
    "ax[0].set_xlabel('Categories w/ Nan values', fontsize = 16)\n",
    "ax[0].set_ylabel('Accuracy', fontsize = 16)\n",
    "ax[0].legend()\n",
    "ax[0].set_xticks(x_mean)\n",
    "ax[0].tick_params(rotation=45.0)\n",
    "ax[0].set_ylim([0,100])\n",
    "ax[0].grid(axis=\"y\")\n",
    "\n",
    "ax[1].bar(imputation_error_weight.columns,np.abs(imputation_error_weight.iloc[2,:].values),color='orange',label='KNN with Weight')\n",
    "ax[1].set_xlabel('Categories w/ Nan values', fontsize = 16)\n",
    "ax[1].set_ylabel('Accuracy', fontsize = 16)\n",
    "ax[1].legend()\n",
    "ax[1].set_xticks(x_mean)\n",
    "ax[1].tick_params(rotation=45.0)\n",
    "ax[1].set_ylim([0,100])\n",
    "ax[1].grid(axis=\"y\")"
   ]
  },
  {
   "cell_type": "markdown",
   "id": "a4161495",
   "metadata": {},
   "source": [
    "List of features which have at least one sample missed: <br>\n",
    "1.\"Lot frontage\", KNN<br>\n",
    "2.\"Mas_Vnr_Type\", KNN weight<br>\n",
    "3.\"Mas_Vnr_Area\", Median<br>\n",
    "4.\"Bsmt_Qual\", KNN Weight<br>\n",
    "5.\"Bsmt_Exposure\", Median<br>\n",
    "6. \"Bsmt_Unf_SF\", Median <br>\n",
    "7.\"Total_Bsmt_SF\", KNN weight<br>\n",
    "8.\"Bsmt_Full_Bath\", Median<br>\n",
    "9.\"Bsmt_Half_Bath\", KNN<br>\n",
    "10.\"Fireplace_Qu\", Median<br>\n",
    "11.\"Garage_Type:, Median<br>\n",
    "12.\"Garage_Finish\", KNN weight<br>\n",
    "13.\"Garage_Cars\", KNN<br>\n",
    "14.\"Garage_Area\", KNN<br>\n",
    "15.\"Garage_Qual\", Median<br>\n",
    "16.\"basement_type\", KNN weight<br>\n",
    "17.\"basement_area\", KNN<br>\n",
    "18.\"garage_age\", KNN<br>"
   ]
  },
  {
   "cell_type": "code",
   "execution_count": null,
   "id": "40fc5e4f",
   "metadata": {},
   "outputs": [],
   "source": [
    "#index = 0\n",
    "#feature_name = list(Nan_col.keys())[index]\n",
    "#y_val1 = list(imputation_error.loc[:,feature_name].values)\n",
    "#y_val2 = list(imputation_error_weight.loc[:,feature_name].values)\n",
    "#print(feature_name)\n",
    "#print(max(y_val1))\n",
    "#print(max(y_val2))\n",
    "#print(np.abs(y_median[index]))\n",
    "#print(np.abs(y_mean[index]))"
   ]
  },
  {
   "cell_type": "code",
   "execution_count": 58,
   "id": "b3433e2d",
   "metadata": {},
   "outputs": [
    {
     "data": {
      "image/png": "[encoded data removed]",
      "text/plain": [
       "<Figure size 576x432 with 1 Axes>"
      ]
     },
     "metadata": {
      "needs_background": "light"
     },
     "output_type": "display_data"
    }
   ],
   "source": [
    "index = 0\n",
    "x_val = list(imputation_error.index)\n",
    "feature_name = list(Nan_col.keys())[index]\n",
    "y_val = list(imputation_error.loc[:,feature_name].values)\n",
    "max_index = np.where(y_val==max(y_val))[0][0]\n",
    "max_val = y_val[max_index]\n",
    "\n",
    "ax,fig = plt.subplots(1,1,figsize=(8,6))\n",
    "sns.lineplot(data = imputation_error, x = x_val, y = 'Lot_Frontage', marker='o', color = 'red',label=feature_name)\n",
    "plt.xlabel(feature_name,fontsize=16)\n",
    "plt.ylabel('Accuracy %',fontsize=16)\n",
    "plt.text(x_val[max_index], y_val[max_index] - 10, '({}, {})'.format(x_val[max_index], y_val[max_index]),\n",
    "         fontsize=16,color='blue')\n",
    "plt.legend()\n",
    "plt.grid()\n",
    "plt.show()"
   ]
  },
  {
   "cell_type": "code",
   "execution_count": 61,
   "id": "7cd393aa",
   "metadata": {},
   "outputs": [
    {
     "data": {
      "image/png": "[encoded data removed]",
      "text/plain": [
       "<Figure size 576x432 with 1 Axes>"
      ]
     },
     "metadata": {
      "needs_background": "light"
     },
     "output_type": "display_data"
    }
   ],
   "source": [
    "index = 1\n",
    "x_val = list(imputation_error.index)\n",
    "feature_name = list(Nan_col.keys())[index]\n",
    "y_val = list(imputation_error.loc[:,feature_name].values)\n",
    "max_index = np.where(y_val==max(y_val))[0][0]\n",
    "max_val = y_val[max_index]\n",
    "\n",
    "ax,fig = plt.subplots(1,1,figsize=(8,6))\n",
    "sns.lineplot(data = imputation_error, x = x_val, y = feature_name, marker='o', color = 'blue',label=feature_name)\n",
    "plt.xlabel(feature_name,fontsize=16)\n",
    "plt.ylabel('Accuracy %',fontsize=16)\n",
    "plt.text(x_val[max_index] + 3, y_val[max_index] - 5, '({}, {})'.format(x_val[max_index], y_val[max_index]),\n",
    "        fontsize=16,color='red')\n",
    "plt.legend()\n",
    "plt.grid()\n",
    "plt.show()"
   ]
  },
  {
   "cell_type": "code",
   "execution_count": 62,
   "id": "d4b28241",
   "metadata": {},
   "outputs": [],
   "source": [
    "knn = []\n",
    "\n",
    "for ifeature in imputation_error_weight.columns:\n",
    "    \n",
    "    temp_data = imputation_error_weight.loc[:,ifeature].values\n",
    "    max_val = np.max(temp_data)\n",
    "    max_index = np.where(temp_data == max_val)[0][0] + 1\n",
    "    knn.append(max_index)"
   ]
  },
  {
   "cell_type": "code",
   "execution_count": 63,
   "id": "e7ac6d78",
   "metadata": {},
   "outputs": [
    {
     "data": {
      "image/png": "[encoded data removed]",
      "text/plain": [
       "<Figure size 1152x432 with 1 Axes>"
      ]
     },
     "metadata": {
      "needs_background": "light"
     },
     "output_type": "display_data"
    }
   ],
   "source": [
    "ax,fig = plt.subplots(1,1,figsize=(16,6))\n",
    "plt.bar(x = imputation_error_weight.columns,height = knn,color='red',label='Maximum accuracy')\n",
    "plt.xlabel('Feature Names',fontsize=16)\n",
    "plt.ylabel('Number of Neighbors Corresponding to Best Accuracy',fontsize=16)\n",
    "plt.xticks(rotation = 90,fontsize=12)\n",
    "plt.yticks(fontsize=12)\n",
    "plt.show()"
   ]
  },
  {
   "cell_type": "code",
   "execution_count": null,
   "id": "7758f697",
   "metadata": {},
   "outputs": [],
   "source": [
    "#Ames.loc[:,'Lot_Frontage'].fillna(np.max(imputation_error.loc[:,'Lot_Frontage'].values),inplace=True)\n",
    "#Ames.loc[:,'Mas_Vnr_Type'].fillna(np.max(imputation_error_weight.loc[:,'Mas_Vnr_Type'].values),inplace=True)\n",
    "#Ames.loc[:,'Mas_Vnr_Area'].fillna(y_median[2],inplace=True)\n",
    "#Ames.loc[:,'Bsmt_Qual'].fillna(np.max(imputation_error_weight.loc[:,'Bsmt_Qual'].values),inplace=True)\n",
    "#Ames.loc[:,'Bsmt_Exposure'].fillna(y_median[4],inplace=True)\n",
    "#Ames.loc[:,'Bsmt_Unf_SF'].fillna(y_median[5],inplace=True)\n",
    "#Ames.loc[:,'Total_Bsmt_SF'].fillna(np.max(imputation_error_weight.loc[:,'Total_Bsmt_SF'].values),inplace=True)\n",
    "#Ames.loc[:,'Bsmt_Full_Bath'].fillna(y_median[7],inplace=True)\n",
    "#Ames.loc[:,'Bsmt_Half_Bath'].fillna(np.max(imputation_error.loc[:,'Bsmt_Half_Bath'].values),inplace=True)\n",
    "#Ames.loc[:,'Fireplace_Qu'].fillna(y_median[9],inplace=True)\n",
    "#Ames.loc[:,'Garage_Type'].fillna(y_median[10],inplace=True)\n",
    "#Ames.loc[:,'Garage_Finish'].fillna(np.max(imputation_error_weight.loc[:,'Garage_Finish'].values),inplace=True)\n",
    "#Ames.loc[:,'Garage_Cars'].fillna(np.max(imputation_error.loc[:,'Garage_Cars'].values),inplace=True)\n",
    "#Ames.loc[:,'Garage_Area'].fillna(np.max(imputation_error.loc[:,'Garage_Area'].values),inplace=True)\n",
    "#Ames.loc[:,'Garage_Qual'].fillna(y_median[14],inplace=True)\n",
    "#Ames.loc[:,'basement_type'].fillna(np.max(imputation_error_weight.loc[:,'basement_type'].values),inplace=True)\n",
    "#Ames.loc[:,'basement_area'].fillna(np.max(imputation_error.loc[:,'basement_area'].values),inplace=True)\n",
    "#Ames.loc[:,'garage_age'].fillna(np.max(imputation_error.loc[:,'garage_age'].values),inplace=True)"
   ]
  },
  {
   "cell_type": "code",
   "execution_count": 64,
   "id": "a47baa71",
   "metadata": {},
   "outputs": [],
   "source": [
    "knn         = KNNImputer(n_neighbors = 3)\n",
    "knn_data    = knn.fit_transform(AmesOriginal)"
   ]
  },
  {
   "cell_type": "code",
   "execution_count": 65,
   "id": "a57f5f45",
   "metadata": {},
   "outputs": [],
   "source": [
    "iknn_data = oeFinal.inverse_transform(knn_data)\n",
    "AmesFinalDB = pd.DataFrame(data = iknn_data, columns = Ames.columns, index = range(Ames.shape[0]))"
   ]
  },
  {
   "cell_type": "code",
   "execution_count": 66,
   "id": "9e7553e2",
   "metadata": {},
   "outputs": [],
   "source": [
    "AmesFinalDB.to_csv('AmesFinalDB.csv')"
   ]
  },
  {
   "cell_type": "code",
   "execution_count": null,
   "id": "22092b70",
   "metadata": {},
   "outputs": [],
   "source": []
  }
 ],
 "metadata": {
  "kernelspec": {
   "display_name": "Python 3 (ipykernel)",
   "language": "python",
   "name": "python3"
  },
  "language_info": {
   "codemirror_mode": {
    "name": "ipython",
    "version": 3
   },
   "file_extension": ".py",
   "mimetype": "text/x-python",
   "name": "python",
   "nbconvert_exporter": "python",
   "pygments_lexer": "ipython3",
   "version": "3.9.12"
  }
 },
 "nbformat": 4,
 "nbformat_minor": 5
}
